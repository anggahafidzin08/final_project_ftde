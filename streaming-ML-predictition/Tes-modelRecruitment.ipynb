{
 "cells": [
  {
   "cell_type": "code",
   "execution_count": 1,
   "id": "5bb93e11-b510-443b-a8e2-517699c8fcf4",
   "metadata": {
    "tags": []
   },
   "outputs": [],
   "source": [
    "import os\n",
    "from model import modelRecruitment\n",
    "\n",
    "path = path = os.getcwd()\n",
    "\n",
    "data = {\n",
    "    'Gender': 'Male',\n",
    "    'Age': 28,\n",
    "    'Position': 'Data Engineer',\n",
    "    'Status': 'Interviewed'\n",
    "}\n",
    "\n",
    "modelRecruitment.runModel(data,path)"
   ]
  },
  {
   "cell_type": "code",
   "execution_count": 2,
   "id": "bfe9a4c5-064b-4144-9914-5bab5c18b69e",
   "metadata": {},
   "outputs": [],
   "source": [
    "data = {\n",
    "    'Gender': 'Male',\n",
    "    'Age': 28,\n",
    "    'Position': 'Data Engineer',\n",
    "    'Status': 'Interviewed'\n",
    "}"
   ]
  },
  {
   "cell_type": "code",
   "execution_count": 5,
   "id": "e0e4d8a1-ecbd-4b25-a64f-f6f72593b89f",
   "metadata": {
    "tags": []
   },
   "outputs": [
    {
     "data": {
      "text/plain": [
       "'C:\\\\Users\\\\10698\\\\Documents\\\\DIGITAL SKOLA\\\\DE - FINAL PROJECT\\\\model'"
      ]
     },
     "execution_count": 5,
     "metadata": {},
     "output_type": "execute_result"
    }
   ],
   "source": [
    "path = os.path.join(os.getcwd(), \"model\")\n",
    "path"
   ]
  },
  {
   "cell_type": "code",
   "execution_count": 8,
   "id": "71697339-ba3e-48cb-9e6c-3f18f44c1438",
   "metadata": {
    "tags": []
   },
   "outputs": [
    {
     "data": {
      "text/plain": [
       "'Hired'"
      ]
     },
     "execution_count": 8,
     "metadata": {},
     "output_type": "execute_result"
    }
   ],
   "source": [
    "modelRecruitment.runModel(data,path)"
   ]
  }
 ],
 "metadata": {
  "kernelspec": {
   "display_name": "Python 3 (ipykernel)",
   "language": "python",
   "name": "python3"
  },
  "language_info": {
   "codemirror_mode": {
    "name": "ipython",
    "version": 3
   },
   "file_extension": ".py",
   "mimetype": "text/x-python",
   "name": "python",
   "nbconvert_exporter": "python",
   "pygments_lexer": "ipython3",
   "version": "3.11.5"
  }
 },
 "nbformat": 4,
 "nbformat_minor": 5
}
